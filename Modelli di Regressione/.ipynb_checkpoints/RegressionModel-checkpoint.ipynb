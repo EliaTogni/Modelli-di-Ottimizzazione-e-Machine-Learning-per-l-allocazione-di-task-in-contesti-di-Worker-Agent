{
 "cells": [
  {
   "cell_type": "code",
   "execution_count": null,
   "id": "3c275c65",
   "metadata": {
    "scrolled": true
   },
   "outputs": [],
   "source": [
    "%matplotlib inline\n",
    "import pandas as pd\n",
    "\n",
    "#Importo Decisions.csv\n",
    "decisions = pd.read_csv(\"../Dataset 2.0/Decisions.csv\")\n",
    "\n",
    "#Da \"Decisions.csv\" seleziono solo le tuple riguardanti il primo round\n",
    "decisions1 = decisions[decisions[\"Round\"] == 3]\n",
    "\n",
    "#Ho effettuato un controllo esterno per assicurarmi che tutte le tuple vengano prese in considerazione\n",
    "\n",
    "#Estraggo \"ID\", \"Session ID\", \"Worker Agent ID\" e \"Worker Agent Reputation\"\n",
    "decisions1 = decisions1.iloc[:, [0, 1, 3, 4]]\n",
    "\n",
    "#Da \"Decisions.csv\" seleziono solo le tuple riguardanti il secondo round\n",
    "decisions2 = decisions[decisions[\"Round\"] == 4]\n",
    "\n",
    "#Estraggo \"Session ID\", \"Worker Agent ID\" e \"Worker Agent Reputation\"\n",
    "decisions2 = decisions2.iloc[:, [1, 3, 4]]\n",
    "\n",
    "#Importo TasksQualities per le task assegnate a ciascun WA\n",
    "queue = pd.read_csv(\"../Dataset 2.0/TasksQualities.csv\", sep = \";\")\n",
    "\n",
    "queue = queue.sort_values(by = \"ID\")\n",
    "\n",
    "#Creo un DataFrame vuoto nel quale concatenerò il risultato di ciascuna iterazione che sto per eseguire\n",
    "totale = pd.DataFrame()\n",
    "\n",
    "\n",
    "for i in range(20):\n",
    "    \n",
    "    #Faccio coincidere in entrambe le tabelle gli wa scelti (in due round consecutivi)\n",
    "    tmp1 = decisions1[decisions1[\"Worker Agent ID\"] == i+1]\n",
    "    tmp2 = decisions2[decisions2[\"Worker Agent ID\"] == i+1]\n",
    "    tmp1 = pd.merge(tmp1, tmp2, left_on = \"Session ID\", right_on = \"Session ID\")\n",
    "    tmp1 = tmp1.rename(columns = {\"Worker Agent ID_x\": \"Worker Agent ID\", \"Worker Agent Reputation_x\": \"Worker Agent Starting Reputation\", \"Worker Agent Reputation_y\": \"Worker Agent Observed Reputation\"})\n",
    "    tmp1 = pd.merge(queue, tmp1, left_on = \"ID\", right_on = \"ID\")\n",
    "    totale = pd.concat([totale, tmp1])\n",
    "    \n",
    "totale = totale.sort_values(by = \"ID\")\n",
    "totale = totale.drop(\"Worker Agent ID_y\", 1)\n",
    "totale = totale.drop(\"Session ID\", 1)\n",
    "\n",
    "\n",
    "x = totale.iloc[:, 0:93]\n",
    "y = totale.iloc[:, 93]"
   ]
  },
  {
   "cell_type": "code",
   "execution_count": 5,
   "id": "205c28b8",
   "metadata": {},
   "outputs": [
    {
     "data": {
      "text/plain": [
       "0.2394294578681999"
      ]
     },
     "execution_count": 5,
     "metadata": {},
     "output_type": "execute_result"
    }
   ],
   "source": [
    "from sklearn.linear_model import LinearRegression\n",
    "\n",
    "reg = LinearRegression().fit(x, y)\n",
    "reg.score(x, y)"
   ]
  },
  {
   "cell_type": "code",
   "execution_count": null,
   "id": "f7af2d52",
   "metadata": {},
   "outputs": [],
   "source": [
    "from sklearn.svm import SVR\n",
    "from sklearn.pipeline import make_pipeline\n",
    "from sklearn.preprocessing import StandardScaler\n",
    "#import numpy as np\n",
    "\n",
    "regr = make_pipeline(StandardScaler(), SVR(C=1.0, epsilon=0.2))\n",
    "regr.fit(x, y)\n",
    "regr.score(x, y)"
   ]
  }
 ],
 "metadata": {
  "kernelspec": {
   "display_name": "Python 3 (ipykernel)",
   "language": "python",
   "name": "python3"
  },
  "language_info": {
   "codemirror_mode": {
    "name": "ipython",
    "version": 3
   },
   "file_extension": ".py",
   "mimetype": "text/x-python",
   "name": "python",
   "nbconvert_exporter": "python",
   "pygments_lexer": "ipython3",
   "version": "3.9.7"
  }
 },
 "nbformat": 4,
 "nbformat_minor": 5
}
