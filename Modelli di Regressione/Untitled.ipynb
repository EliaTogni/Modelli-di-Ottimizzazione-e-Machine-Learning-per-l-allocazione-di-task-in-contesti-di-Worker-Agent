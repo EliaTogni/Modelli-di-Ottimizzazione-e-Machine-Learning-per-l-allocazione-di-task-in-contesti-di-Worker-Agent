{
 "cells": [
  {
   "cell_type": "code",
   "execution_count": 6,
   "id": "3c275c65",
   "metadata": {},
   "outputs": [
    {
     "data": {
      "text/plain": [
       "80973"
      ]
     },
     "execution_count": 6,
     "metadata": {},
     "output_type": "execute_result"
    }
   ],
   "source": [
    "%matplotlib inline\n",
    "import pandas as pd\n",
    "\n",
    "#Importo Decisions.csv\n",
    "decisions = pd.read_csv(\"../Dataset 2.0/Decisions.csv\")\n",
    "\n",
    "#Da \"Decisions.csv\" seleziono solo le tuple riguardanti il primo round\n",
    "decisions1 = decisions[decisions[\"Round\"] == 1]\n",
    "\n",
    "#Ho effettuato un controllo esterno per assicurarmi che tutte le tuple vengano prese in considerazione\n",
    "\n",
    "#Estraggo \"ID\", \"Session ID\", \"Worker Agent ID\" e \"Worker Agent Reputation\"\n",
    "decisions1 = decisions1.iloc[:, [0, 1, 3, 6]]\n",
    "\n",
    "#Da \"Decisions.csv\" seleziono solo le tuple riguardanti il secondo round\n",
    "decisions2 = decisions[decisions[\"Round\"] == 2]\n",
    "\n",
    "#Estraggo \"Session ID\", \"Worker Agent ID\" e \"Worker Agent Reputation\"\n",
    "decisions2 = decisions2.iloc[:, [1, 3, 6]]\n",
    "\n",
    "#Importo Tasks.csv per le informazioni di ciascuna task\n",
    "tasks = pd.read_csv(\"../Dataset 2.0/Tasks.csv\")\n",
    "\n",
    "#Importo BacklogQueue per le task assegnate a ciascun WA\n",
    "queue = pd.read_csv(\"../Dataset 2.0/BacklogQueue.csv\")\n",
    "\n",
    "#decisions1 e decisions2 hanno cardinalità differenti \n",
    "\n",
    "#Creo un DataFrame vuoto nel quale concatenerò il risultato di ciascuna iterazione che sto per eseguire\n",
    "totale = pd.Dataframe()\n",
    "\n"
   ]
  }
 ],
 "metadata": {
  "kernelspec": {
   "display_name": "Python 3 (ipykernel)",
   "language": "python",
   "name": "python3"
  },
  "language_info": {
   "codemirror_mode": {
    "name": "ipython",
    "version": 3
   },
   "file_extension": ".py",
   "mimetype": "text/x-python",
   "name": "python",
   "nbconvert_exporter": "python",
   "pygments_lexer": "ipython3",
   "version": "3.9.7"
  }
 },
 "nbformat": 4,
 "nbformat_minor": 5
}
