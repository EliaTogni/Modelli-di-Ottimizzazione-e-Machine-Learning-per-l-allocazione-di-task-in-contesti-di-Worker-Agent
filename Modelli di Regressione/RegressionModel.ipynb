{
 "cells": [
  {
   "cell_type": "code",
   "execution_count": 8,
   "id": "f4d7daf0",
   "metadata": {},
   "outputs": [
    {
     "name": "stdout",
     "output_type": "stream",
     "text": [
      "fine\n"
     ]
    }
   ],
   "source": [
    "%matplotlib inline\n",
    "import pandas as pd\n",
    "\n",
    "#Importo Decisions.csv\n",
    "decisions = pd.read_csv(\"../Dataset 2.0/Decisions.csv\")\n",
    "\n",
    "#Da \"Decisions.csv\" seleziono solo le tuple riguardanti il primo round\n",
    "decisions1 = decisions[decisions[\"Round\"] == 9]\n",
    "\n",
    "#Ho effettuato un controllo esterno per assicurarmi che tutte le tuple vengano prese in considerazione\n",
    "\n",
    "#Estraggo \"ID\", \"Session ID\", \"Worker Agent ID\" e \"Worker Agent Reputation\"\n",
    "decisions1 = decisions1.iloc[:, [0, 1, 3, 4]]\n",
    "\n",
    "#Da \"Decisions.csv\" seleziono solo le tuple riguardanti il secondo round\n",
    "decisions2 = decisions[decisions[\"Round\"] == 10]\n",
    "\n",
    "#Estraggo \"Session ID\", \"Worker Agent ID\" e \"Worker Agent Reputation\"\n",
    "decisions2 = decisions2.iloc[:, [1, 3, 4]]\n",
    "\n",
    "#Importo TasksQualities per le task assegnate a ciascun WA\n",
    "queue = pd.read_csv(\"../Dataset 2.0/TasksQualities.csv\", sep = \";\")\n",
    "\n",
    "queue = queue.sort_values(by = \"ID\")\n",
    "\n",
    "#Creo un DataFrame vuoto nel quale concatenerò il risultato di ciascuna iterazione che sto per eseguire\n",
    "totale = pd.DataFrame()\n",
    "print(\"end\")"
   ]
  },
  {
   "cell_type": "code",
   "execution_count": 11,
   "id": "1c7a173a",
   "metadata": {},
   "outputs": [
    {
     "name": "stdout",
     "output_type": "stream",
     "text": [
      "Worker Agent 1, score: 0.910865278239813\n",
      "\n",
      "Worker Agent 2, score: 0.9242838574213197\n",
      "\n",
      "Worker Agent 3, score: 0.9067901846863252\n",
      "\n",
      "Worker Agent 4, score: 0.8971914980613082\n",
      "\n",
      "Worker Agent 5, score: 0.8862170041828635\n",
      "\n",
      "Worker Agent 6, score: 0.9179138001706617\n",
      "\n",
      "Worker Agent 7, score: 0.9150264119334063\n",
      "\n",
      "Worker Agent 8, score: 0.9347754003998848\n",
      "\n",
      "Worker Agent 9, score: 0.9376361679486526\n",
      "\n",
      "Worker Agent 10, score: 0.94772346474345\n",
      "\n",
      "Worker Agent 11, score: 0.8950181686861094\n",
      "\n",
      "Worker Agent 12, score: 0.8966050619240913\n",
      "\n",
      "Worker Agent 13, score: 0.86660240165\n",
      "\n",
      "Worker Agent 14, score: 0.8729066574243519\n",
      "\n",
      "Worker Agent 15, score: 0.8921081547514378\n",
      "\n",
      "Worker Agent 16, score: 0.9112040475438025\n",
      "\n",
      "Worker Agent 17, score: 0.9243552187728464\n",
      "\n",
      "Worker Agent 18, score: 0.9260596783830306\n",
      "\n",
      "Worker Agent 19, score: 0.9310552887911175\n",
      "\n",
      "Worker Agent 20, score: 0.9298179458365676\n",
      "\n"
     ]
    }
   ],
   "source": [
    "from sklearn.linear_model import LinearRegression\n",
    "import warnings\n",
    "warnings.simplefilter(action='ignore', category=FutureWarning)\n",
    "\n",
    "for i in range(20):\n",
    "    \n",
    "    #Faccio coincidere in entrambe le tabelle gli wa scelti (in due round consecutivi)\n",
    "    tmp1 = decisions1[decisions1[\"Worker Agent ID\"] == i+1]\n",
    "    tmp2 = decisions2[decisions2[\"Worker Agent ID\"] == i+1]\n",
    "    tmp1 = pd.merge(tmp1, tmp2, left_on = \"Session ID\", right_on = \"Session ID\")\n",
    "    tmp1 = tmp1.rename(columns = {\"Worker Agent ID_x\": \"Worker Agent ID\", \"Worker Agent Reputation_x\": \"Worker Agent Starting Reputation\", \"Worker Agent Reputation_y\": \"Worker Agent Observed Reputation\"})\n",
    "    tmp1 = pd.merge(queue, tmp1, left_on = \"ID\", right_on = \"ID\")\n",
    "    tmp1 = tmp1.drop(\"Worker Agent ID_y\", 1)\n",
    "    tmp1 = tmp1.drop(\"Session ID\", 1)\n",
    "    tmp1 = tmp1.sort_values(by = \"ID\")\n",
    "    \n",
    "    xtmp = tmp1.iloc[:, 0:93]\n",
    "    ytmp = tmp1.iloc[:, 93]\n",
    "    \n",
    "    reg = LinearRegression().fit(xtmp, ytmp)\n",
    "    print(f\"Worker Agent {i+1}, score: {reg.score(xtmp, ytmp)}\\n\")\n",
    "    \n",
    "    totale = pd.concat([totale, tmp1])\n",
    "    \n",
    "    #Training del modello per ogni wa riguardo al round scelto"
   ]
  },
  {
   "cell_type": "code",
   "execution_count": 13,
   "id": "6ca7e8a7",
   "metadata": {},
   "outputs": [
    {
     "name": "stdout",
     "output_type": "stream",
     "text": [
      "fine\n"
     ]
    }
   ],
   "source": [
    "totale = totale.sort_values(by = \"ID\")\n",
    "\n",
    "#Preparazione del dataset per il training\n",
    "x = totale.iloc[:, 0:93]\n",
    "y = totale.iloc[:, 93]\n",
    "print(\"fine\")"
   ]
  },
  {
   "cell_type": "code",
   "execution_count": 14,
   "id": "205c28b8",
   "metadata": {},
   "outputs": [
    {
     "data": {
      "text/plain": [
       "0.9537148596502453"
      ]
     },
     "execution_count": 14,
     "metadata": {},
     "output_type": "execute_result"
    }
   ],
   "source": [
    "#Training del modello utilizzando la Regressione Lineare\n",
    "\n",
    "reg = LinearRegression().fit(x, y)\n",
    "reg.score(x, y)"
   ]
  },
  {
   "cell_type": "code",
   "execution_count": 22,
   "id": "f7af2d52",
   "metadata": {},
   "outputs": [
    {
     "data": {
      "text/plain": [
       "0.788342762977449"
      ]
     },
     "execution_count": 22,
     "metadata": {},
     "output_type": "execute_result"
    }
   ],
   "source": [
    "#Training del modello utilizzando SVR\n",
    "\n",
    "from sklearn.svm import SVR\n",
    "from sklearn.pipeline import make_pipeline\n",
    "from sklearn.preprocessing import StandardScaler\n",
    "\n",
    "regr = make_pipeline(StandardScaler(), SVR(C=1.0, epsilon=0.2))\n",
    "regr.fit(x, y)\n",
    "regr.score(x, y)"
   ]
  }
 ],
 "metadata": {
  "kernelspec": {
   "display_name": "Python 3 (ipykernel)",
   "language": "python",
   "name": "python3"
  },
  "language_info": {
   "codemirror_mode": {
    "name": "ipython",
    "version": 3
   },
   "file_extension": ".py",
   "mimetype": "text/x-python",
   "name": "python",
   "nbconvert_exporter": "python",
   "pygments_lexer": "ipython3",
   "version": "3.9.7"
  }
 },
 "nbformat": 4,
 "nbformat_minor": 5
}
