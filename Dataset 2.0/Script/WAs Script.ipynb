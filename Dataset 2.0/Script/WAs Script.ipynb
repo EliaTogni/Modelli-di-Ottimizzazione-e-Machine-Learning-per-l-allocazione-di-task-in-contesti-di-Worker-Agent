{
 "cells": [
  {
   "cell_type": "code",
   "execution_count": 3,
   "id": "3316e87d",
   "metadata": {},
   "outputs": [
    {
     "name": "stdout",
     "output_type": "stream",
     "text": [
      "    ID High Quality Output Probability  \\\n",
      "0    1                           10.00   \n",
      "1    2                           20.00   \n",
      "2    3                           30.00   \n",
      "3    4                           40.00   \n",
      "4    5                           50.00   \n",
      "5    6                           60.00   \n",
      "6    7                           70.00   \n",
      "7    8                           80.00   \n",
      "8    9                           90.00   \n",
      "9   10                          100.00   \n",
      "10  11                           10.00   \n",
      "11  12                           20.00   \n",
      "12  13                           30.00   \n",
      "13  14                           40.00   \n",
      "14  15                           50.00   \n",
      "15  16                           60.00   \n",
      "16  17                           70.00   \n",
      "17  18                           80.00   \n",
      "18  19                           90.00   \n",
      "19  20                          100.00   \n",
      "\n",
      "    Max Productivity (No. of Effort Units per Round)  SvQ Setting  \n",
      "0                                                 11            1  \n",
      "1                                                 12            1  \n",
      "2                                                 13            1  \n",
      "3                                                 14            1  \n",
      "4                                                 15            1  \n",
      "5                                                 16            1  \n",
      "6                                                 17            1  \n",
      "7                                                 18            1  \n",
      "8                                                 19            1  \n",
      "9                                                 20            1  \n",
      "10                                                20           -1  \n",
      "11                                                19           -1  \n",
      "12                                                18           -1  \n",
      "13                                                17           -1  \n",
      "14                                                16           -1  \n",
      "15                                                15           -1  \n",
      "16                                                14           -1  \n",
      "17                                                13           -1  \n",
      "18                                                12           -1  \n",
      "19                                                11           -1  \n"
     ]
    }
   ],
   "source": [
    "import pandas as pd\n",
    "\n",
    "def main():\n",
    "    df = pd.read_csv(\"../../Dataset/Worker Agents.csv\")\n",
    "    \n",
    "    #Estraggo la colonna riguardante la \"High Quality Output Probability\"\n",
    "    tmp = df.iloc[:, 1]\n",
    "    \n",
    "    #Trasformo la lista di stringhe in lista di float\n",
    "    lista = [i.replace(\"%\", \"\") for i in tmp]\n",
    "\n",
    "    #Appendo la nuova colonna al DataFrame\n",
    "    lista = pd.DataFrame(lista)\n",
    "    lista.columns = [\"temp\"]\n",
    "    df = df.join(lista)\n",
    "    \n",
    "    #Rimuovo la vecchia colonna e rinomino quella nuova\n",
    "    df = df.drop(\"High Quality Output Probability\", axis = 1)\n",
    "    df = df.rename(columns = { \"temp\" : \"High Quality Output Probability\"})\n",
    "    \n",
    "    df = df.iloc[:, [0, 3, 1, 2]]\n",
    "    print(df)\n",
    "    \n",
    "    #Salvo il file come .csv\n",
    "    df.to_csv(\"../Worker Agents.csv\", index = False)\n",
    "    \n",
    "if __name__ == \"__main__\":\n",
    "    main()"
   ]
  }
 ],
 "metadata": {
  "kernelspec": {
   "display_name": "Python 3 (ipykernel)",
   "language": "python",
   "name": "python3"
  },
  "language_info": {
   "codemirror_mode": {
    "name": "ipython",
    "version": 3
   },
   "file_extension": ".py",
   "mimetype": "text/x-python",
   "name": "python",
   "nbconvert_exporter": "python",
   "pygments_lexer": "ipython3",
   "version": "3.9.7"
  }
 },
 "nbformat": 4,
 "nbformat_minor": 5
}
