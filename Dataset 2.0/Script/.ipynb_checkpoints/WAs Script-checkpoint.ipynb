{
 "cells": [
  {
   "cell_type": "code",
   "execution_count": 10,
   "id": "3316e87d",
   "metadata": {},
   "outputs": [
    {
     "name": "stdout",
     "output_type": "stream",
     "text": [
      "0      10.00%\n",
      "1      20.00%\n",
      "2      30.00%\n",
      "3      40.00%\n",
      "4      50.00%\n",
      "5      60.00%\n",
      "6      70.00%\n",
      "7      80.00%\n",
      "8      90.00%\n",
      "9     100.00%\n",
      "10     10.00%\n",
      "11     20.00%\n",
      "12     30.00%\n",
      "13     40.00%\n",
      "14     50.00%\n",
      "15     60.00%\n",
      "16     70.00%\n",
      "17     80.00%\n",
      "18     90.00%\n",
      "19    100.00%\n",
      "Name: High Quality Output Probability, dtype: object\n"
     ]
    }
   ],
   "source": [
    "%matplotlib inline\n",
    "import pandas as pd\n",
    "import numpy as np\n",
    "import matplotlib.pyplot as plt\n",
    "\n",
    "\n",
    "def main():\n",
    "    df = pd.read_csv(\"../../Dataset/Worker Agents.csv\")\n",
    "    tmp = df.iloc[:, 1]\n",
    "    \n",
    "if __name__ == \"__main__\":\n",
    "    main()"
   ]
  }
 ],
 "metadata": {
  "kernelspec": {
   "display_name": "Python 3 (ipykernel)",
   "language": "python",
   "name": "python3"
  },
  "language_info": {
   "codemirror_mode": {
    "name": "ipython",
    "version": 3
   },
   "file_extension": ".py",
   "mimetype": "text/x-python",
   "name": "python",
   "nbconvert_exporter": "python",
   "pygments_lexer": "ipython3",
   "version": "3.9.7"
  }
 },
 "nbformat": 4,
 "nbformat_minor": 5
}
