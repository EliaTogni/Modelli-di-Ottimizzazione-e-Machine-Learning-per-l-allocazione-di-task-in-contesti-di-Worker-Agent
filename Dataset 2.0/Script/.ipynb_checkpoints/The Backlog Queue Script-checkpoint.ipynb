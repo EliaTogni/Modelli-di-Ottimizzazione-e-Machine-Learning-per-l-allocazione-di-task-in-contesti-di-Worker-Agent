{
 "cells": [
  {
   "cell_type": "code",
   "execution_count": 1,
   "id": "814ec6e1",
   "metadata": {},
   "outputs": [],
   "source": [
    "import pandas as pd\n",
    "from array import *\n",
    "import math\n",
    "\n",
    "\n",
    "df = pd.read_csv(\"../../Dataset/Decisions.csv\")\n",
    "    \n",
    "#Elimino le colonne irrilevanti per l'analisi\n",
    "df = df.iloc[:, [0, 6]]\n",
    "    \n",
    "#Creo una lista vuota\n",
    "lserie = []\n",
    "    \n",
    "for i in df.iloc[:, 1]:\n",
    "        \n",
    "    string = \"\"\n",
    "        \n",
    "    #Nel caso in cui l'entry contenga NULL (cioè non sono state assegnate task al wa), creo una stringa\n",
    "    #contenente 30 zeri\n",
    "    if isinstance(i, float) and math.isnan(i):\n",
    "        string = \"0; 0; 0; 0; 0; 0; 0; 0; 0; 0; 0; 0; 0; 0; 0; 0; 0; 0; 0; 0; 0; 0; 0; 0; 0; 0; 0; 0; 0; 0;\"\n",
    "            \n",
    "    #altrimenti creo una stringa della stessa lunghezza ma con indicate le task assegnate al wa\n",
    "    else:\n",
    "            \n",
    "        #Divido la stringa in input in base al separatore \";\"\n",
    "        lista = i.split(\";\")\n",
    "            \n",
    "        #Elimino l'ultimo elemento di ogni lista, un whitespace\n",
    "        lista.pop()\n",
    "            \n",
    "        #Definisco un array di dimensione 30, inizializzato a 0\n",
    "        zeri = [0] * 30\n",
    "            \n",
    "        #All'interno dell'array memorizzo quali task sono state assegnate al wa\n",
    "        for j in lista:\n",
    "            zeri[int(j)-1] = int(j)\n",
    "            \n",
    "        #Creo una stringa formattata correttamente\n",
    "        string = \"\"\n",
    "        for j in zeri:\n",
    "            string = string + str(j)\n",
    "            string = string + \"; \"\n",
    "            \n",
    "    #Appendo la stringa ottenuta alla lista, eliminando il whitespace alla fine\n",
    "    string = string.strip()\n",
    "    lserie.append([string])\n",
    "        \n",
    "lserie = pd.DataFrame(lserie)\n",
    "    \n",
    "lserie = pd.concat([df.iloc[:, 0], lserie], axis = 1)    \n",
    "    \n",
    "#Salvo il file come .csv\n",
    "lserie.to_csv(\"../BacklogQueue.csv\", index = False)"
   ]
  }
 ],
 "metadata": {
  "kernelspec": {
   "display_name": "Python 3 (ipykernel)",
   "language": "python",
   "name": "python3"
  },
  "language_info": {
   "codemirror_mode": {
    "name": "ipython",
    "version": 3
   },
   "file_extension": ".py",
   "mimetype": "text/x-python",
   "name": "python",
   "nbconvert_exporter": "python",
   "pygments_lexer": "ipython3",
   "version": "3.9.7"
  }
 },
 "nbformat": 4,
 "nbformat_minor": 5
}
