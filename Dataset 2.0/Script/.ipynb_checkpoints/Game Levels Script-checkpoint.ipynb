{
 "cells": [
  {
   "cell_type": "code",
   "execution_count": 11,
   "id": "5e3f3b2c",
   "metadata": {},
   "outputs": [],
   "source": [
    "import pandas as pd\n",
    "\n",
    "def main():\n",
    "    df = pd.read_csv(\"../../Dataset/Game Levels.csv\")\n",
    "    \n",
    "    #Estraggo la colonna riguardante l'\"Average Worker Agent Productivity Output Rate\"\n",
    "    tmp = df.iloc[:, 4]\n",
    "    \n",
    "    #Trasformo la lista di stringhe in lista di float\n",
    "    lista = []\n",
    "    for i in tmp:\n",
    "        i = i.replace(\"%\", \"\")\n",
    "        lista.append(i)\n",
    "\n",
    "    #Appendo la nuova colonna al DataFrame\n",
    "    lista = pd.DataFrame(lista)\n",
    "    lista.columns = [\"temp\"]\n",
    "    df = df.join(lista)\n",
    "    \n",
    "    #Rimuovo la vecchia colonna e rinomino quella nuova\n",
    "    df = df.drop(\"Average Worker Agent Productivity Output Rate\", axis = 1)\n",
    "    df = df.rename(columns = { \"temp\" : \"Average Worker Agent Productivity Output Rate\"})\n",
    "    \n",
    "    #Salvo il file come .csv\n",
    "    df.to_csv(\"../Game Levels.csv\", index = False)\n",
    "    \n",
    "if __name__ == \"__main__\":\n",
    "    main()"
   ]
  }
 ],
 "metadata": {
  "kernelspec": {
   "display_name": "Python 3 (ipykernel)",
   "language": "python",
   "name": "python3"
  },
  "language_info": {
   "codemirror_mode": {
    "name": "ipython",
    "version": 3
   },
   "file_extension": ".py",
   "mimetype": "text/x-python",
   "name": "python",
   "nbconvert_exporter": "python",
   "pygments_lexer": "ipython3",
   "version": "3.9.7"
  }
 },
 "nbformat": 4,
 "nbformat_minor": 5
}
