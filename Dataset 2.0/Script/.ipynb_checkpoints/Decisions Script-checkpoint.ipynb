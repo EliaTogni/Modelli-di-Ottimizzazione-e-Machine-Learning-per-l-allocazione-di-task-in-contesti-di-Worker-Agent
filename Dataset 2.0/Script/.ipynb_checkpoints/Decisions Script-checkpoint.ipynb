{
 "cells": [
  {
   "cell_type": "code",
   "execution_count": 1,
   "id": "14adc1e2",
   "metadata": {},
   "outputs": [],
   "source": [
    "import pandas as pd\n",
    "\n",
    "def main():\n",
    "    df = pd.read_csv(\"../../Dataset/Decisions.csv\")\n",
    "    \n",
    "    #Elimino le colonne irrilevanti per l'analisi\n",
    "    df = df.iloc[:, [0, 1, 2, 3, 4, 5, 7]]\n",
    "\n",
    "    #Tolgo la parte errata dalle stringhe della seconda colonna\n",
    "    dg = df.iloc[:, 1]\n",
    "    lista1 = sub(dg)\n",
    "    \n",
    "    #Appendo le nuove colonne al DataFrame\n",
    "    lista1 = pd.DataFrame(lista1)\n",
    "    lista1.columns = [\"temp1\"]\n",
    "    df = df.join(lista1)\n",
    "    \n",
    "    #Rimuovo la vecchia colonna e rinomino quella nuova\n",
    "    df = df.drop(\"Session ID\", axis = 1)\n",
    "    df = df.rename(columns = { \"temp1\" : \"Session ID\"})\n",
    "    \n",
    "    #Riordino le colonne del DataFrame\n",
    "    df = df.iloc[:, [0, 6, 1, 2, 3, 4, 5]]\n",
    "    \n",
    "    #Salvo il file come .csv\n",
    "    df.to_csv(\"../Decisions.csv\", index = False)\n",
    "\n",
    "\n",
    "#Metodo che taglia la parte errata da ogni stringa\n",
    "def sub(DataFrame):\n",
    "    lista = [i[0:36] for i in DataFrame]\n",
    "    return lista\n",
    "\n",
    "if __name__ == \"__main__\":\n",
    "    main()"
   ]
  }
 ],
 "metadata": {
  "kernelspec": {
   "display_name": "Python 3 (ipykernel)",
   "language": "python",
   "name": "python3"
  },
  "language_info": {
   "codemirror_mode": {
    "name": "ipython",
    "version": 3
   },
   "file_extension": ".py",
   "mimetype": "text/x-python",
   "name": "python",
   "nbconvert_exporter": "python",
   "pygments_lexer": "ipython3",
   "version": "3.9.7"
  }
 },
 "nbformat": 4,
 "nbformat_minor": 5
}
