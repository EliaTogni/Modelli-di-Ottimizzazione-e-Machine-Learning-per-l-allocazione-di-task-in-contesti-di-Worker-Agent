{
 "cells": [
  {
   "cell_type": "code",
   "execution_count": 2,
   "id": "464e4711",
   "metadata": {},
   "outputs": [],
   "source": [
    "import pandas as pd\n",
    "\n",
    "def main():\n",
    "    df = pd.read_csv(\"../../Dataset/Game Sessions.csv\")\n",
    "    \n",
    "    #Elimino le colonne irrilevanti per l'analisi\n",
    "    df = df.iloc[:, [0, 1, 2, 3, 4, 5, 6, 7, 8, 9, 10]]\n",
    "    \n",
    "    #Tolgo la parte errata dalle stringhe della prima colonna\n",
    "    dg = df.iloc[:, 0]\n",
    "    lista1 = sub(dg)\n",
    "    \n",
    "    #Tolgo la parte errata dalle stringhe della seconda colonna\n",
    "    dg = df.iloc[:, 1]\n",
    "    lista2 = sub(dg)\n",
    "\n",
    "    #Appendo le nuove colonne al DataFrame\n",
    "    lista1 = pd.DataFrame(lista1)\n",
    "    lista2 = pd.DataFrame(lista2)\n",
    "    lista1.columns = [\"temp1\"]\n",
    "    lista2.columns = [\"temp2\"]\n",
    "    df = df.join(lista1)\n",
    "    df = df.join(lista2)\n",
    "\n",
    "    #Rimuovo le vecchie colonne e rinomino quelle nuove\n",
    "    df = df.drop(\"ID\", axis = 1)\n",
    "    df = df.rename(columns = { \"temp1\" : \"ID\"})\n",
    "    \n",
    "    df = df.drop(\"User ID\", axis = 1)\n",
    "    df = df.rename(columns = { \"temp2\" : \"User ID\"})\n",
    "    \n",
    "    #Riordino le colonne del DataFrame\n",
    "    df = df.iloc[:, [9, 10, 0, 1, 2, 3, 4, 5, 6, 7, 8]]\n",
    "    \n",
    "    #Salvo il file come .csv\n",
    "    df.to_csv(\"../Game Sessions.csv\", index = False)\n",
    "\n",
    "#Metodo che taglia la parte errata da ogni stringa\n",
    "def sub(DataFrame):\n",
    "    lista = []\n",
    "    for i in DataFrame:\n",
    "        i = i[0:36]\n",
    "        lista.append(i)\n",
    "    return lista\n",
    "    \n",
    "\n",
    "if __name__ == \"__main__\":\n",
    "    main()"
   ]
  }
 ],
 "metadata": {
  "kernelspec": {
   "display_name": "Python 3 (ipykernel)",
   "language": "python",
   "name": "python3"
  },
  "language_info": {
   "codemirror_mode": {
    "name": "ipython",
    "version": 3
   },
   "file_extension": ".py",
   "mimetype": "text/x-python",
   "name": "python",
   "nbconvert_exporter": "python",
   "pygments_lexer": "ipython3",
   "version": "3.9.7"
  }
 },
 "nbformat": 4,
 "nbformat_minor": 5
}
