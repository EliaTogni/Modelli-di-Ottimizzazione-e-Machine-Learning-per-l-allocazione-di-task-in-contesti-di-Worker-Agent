{
 "cells": [
  {
   "cell_type": "code",
   "execution_count": 14,
   "id": "464e4711",
   "metadata": {},
   "outputs": [
    {
     "name": "stdout",
     "output_type": "stream",
     "text": [
      "0                    00212664-6c71-4e24-b61d-c7776f7a7d99\n",
      "1                    00212664-6c71-4e24-b61d-c7776f7a7d99\n",
      "2                    35112a97-3b76-43e4-a403-6ce0bf79fb6b\n",
      "3                    00212664-6c71-4e24-b61d-c7776f7a7d99\n",
      "4                    00212664-6c71-4e24-b61d-c7776f7a7d99\n",
      "                              ...                        \n",
      "9849    3a7ca491-9304-4c81-b1d3-37a0a0d4c41f[sduzss][2...\n",
      "9850    317a2b85-dbce-4628-bf5d-764c304425ec[961231][2...\n",
      "9851    92be2126-3993-45b5-ad03-274bce1dddf2[zyc][2016...\n",
      "9852    9601a533-ecda-4ff7-b324-0a2a2c6a15b9[sdull][20...\n",
      "9853    51a58fe9-7cfe-4a77-82c9-4fe1fbc1275f[sdu_wangy...\n",
      "Name: User ID, Length: 9854, dtype: object\n"
     ]
    }
   ],
   "source": [
    "import pandas as pd\n",
    "\n",
    "def main():\n",
    "    df = pd.read_csv(\"../../Dataset/Game Sessions.csv\")\n",
    "    \n",
    "    #Elimino le colonne irrilevanti per l'analisi\n",
    "    df = df.iloc[:, [0,1,2,3,4,5,6,7,8,9, 10]]\n",
    "\n",
    "\n",
    "    dg = df.iloc[:, 0]\n",
    "    #Creo delle substring togliendo la parte in eccesso di ogni stringa\n",
    "    lista = sub(dg)\n",
    "    \n",
    "    dg = df.iloc[:, 1]\n",
    "    print(dg)\n",
    "    #Creo delle substring togliendo la parte in eccesso di ogni stringa\n",
    "    lista = sub(dg)\n",
    "    print(lista)\n",
    "        \n",
    "def sub(DataFrame):\n",
    "    lista = []\n",
    "    for i in DataFrame:\n",
    "        i = i[0:36]\n",
    "        lista.append(i)\n",
    "    return lista\n",
    "    \n",
    "\n",
    "if __name__ == \"__main__\":\n",
    "    main()"
   ]
  }
 ],
 "metadata": {
  "kernelspec": {
   "display_name": "Python 3 (ipykernel)",
   "language": "python",
   "name": "python3"
  },
  "language_info": {
   "codemirror_mode": {
    "name": "ipython",
    "version": 3
   },
   "file_extension": ".py",
   "mimetype": "text/x-python",
   "name": "python",
   "nbconvert_exporter": "python",
   "pygments_lexer": "ipython3",
   "version": "3.9.7"
  }
 },
 "nbformat": 4,
 "nbformat_minor": 5
}
