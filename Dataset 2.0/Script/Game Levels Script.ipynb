{
 "cells": [
  {
   "cell_type": "code",
   "execution_count": 5,
   "id": "5e3f3b2c",
   "metadata": {},
   "outputs": [
    {
     "name": "stdout",
     "output_type": "stream",
     "text": [
      "   Level  Speed vs. Quality Trade-off (SvQ)  No. of Rounds  Tasks per Round  \\\n",
      "0      1                                  1              5               20   \n",
      "1      2                                 -1              5               20   \n",
      "2      3                                  1              5               30   \n",
      "3      4                                 -1              5               30   \n",
      "4      5                                  1             10               30   \n",
      "5      6                                 -1             10               30   \n",
      "\n",
      "  Average Worker Agent Productivity Output Rate  \n",
      "0                                        100.00  \n",
      "1                                        100.00  \n",
      "2                                         90.00  \n",
      "3                                         90.00  \n",
      "4                                         80.00  \n",
      "5                                         80.00  \n"
     ]
    }
   ],
   "source": [
    "import pandas as pd\n",
    "\n",
    "\n",
    "df = pd.read_csv(\"../../Dataset/Game Levels.csv\")\n",
    "    \n",
    "#Estraggo la colonna riguardante l'\"Average Worker Agent Productivity Output Rate\"\n",
    "tmp = df.iloc[:, 4]\n",
    "    \n",
    "#Trasformo la lista di stringhe in lista di float\n",
    "lista = [i.replace(\"%\", \"\") for i in tmp]\n",
    "\n",
    "#Appendo la nuova colonna al DataFrame\n",
    "lista = pd.DataFrame(lista)\n",
    "lista.columns = [\"temp\"]\n",
    "df = df.join(lista)\n",
    "    \n",
    "#Rimuovo la vecchia colonna e rinomino quella nuova\n",
    "df = df.drop(\"Average Worker Agent Productivity Output Rate\", axis = 1)\n",
    "df = df.rename(columns = { \"temp\" : \"Average Worker Agent Productivity Output Rate\"})\n",
    "\n",
    "\n",
    "#Salvo il file come .csv\n",
    "df.to_csv(\"../Game Levels.csv\", index = False)"
   ]
  }
 ],
 "metadata": {
  "kernelspec": {
   "display_name": "Python 3 (ipykernel)",
   "language": "python",
   "name": "python3"
  },
  "language_info": {
   "codemirror_mode": {
    "name": "ipython",
    "version": 3
   },
   "file_extension": ".py",
   "mimetype": "text/x-python",
   "name": "python",
   "nbconvert_exporter": "python",
   "pygments_lexer": "ipython3",
   "version": "3.9.7"
  }
 },
 "nbformat": 4,
 "nbformat_minor": 5
}
