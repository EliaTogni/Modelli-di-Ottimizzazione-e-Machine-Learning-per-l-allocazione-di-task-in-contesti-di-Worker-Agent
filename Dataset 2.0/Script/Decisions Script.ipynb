{
 "cells": [
  {
   "cell_type": "code",
   "execution_count": 4,
   "id": "14adc1e2",
   "metadata": {},
   "outputs": [
    {
     "name": "stdout",
     "output_type": "stream",
     "text": [
      "             ID                            Session ID  Round  Worker Agent ID  \\\n",
      "0             1  e7e52776-2750-4cde-a5da-093ccb8feaf9      1                1   \n",
      "1             3  e7e52776-2750-4cde-a5da-093ccb8feaf9      1                6   \n",
      "2             5  e7e52776-2750-4cde-a5da-093ccb8feaf9      1                3   \n",
      "3             7  e7e52776-2750-4cde-a5da-093ccb8feaf9      1                5   \n",
      "4             9  e7e52776-2750-4cde-a5da-093ccb8feaf9      1                8   \n",
      "...         ...                                   ...    ...              ...   \n",
      "495528  1290926  c1888e82-4f53-4737-a934-ab8420c4c7e8      5                6   \n",
      "495529  1290928  c1888e82-4f53-4737-a934-ab8420c4c7e8      5                7   \n",
      "495530  1290930  c1888e82-4f53-4737-a934-ab8420c4c7e8      5                8   \n",
      "495531  1290932  c1888e82-4f53-4737-a934-ab8420c4c7e8      5                9   \n",
      "495532  1290934  c1888e82-4f53-4737-a934-ab8420c4c7e8      5               10   \n",
      "\n",
      "        Worker Agent Backlog (No. of Tasks)  \\\n",
      "0                                         2   \n",
      "1                                         2   \n",
      "2                                         2   \n",
      "3                                         2   \n",
      "4                                         2   \n",
      "...                                     ...   \n",
      "495528                                    2   \n",
      "495529                                    3   \n",
      "495530                                    3   \n",
      "495531                                    3   \n",
      "495532                                    3   \n",
      "\n",
      "        Worker Agent Backlog (No. of Effort Units)  Worker Agent Reputation  \n",
      "0                                                6                 0.500000  \n",
      "1                                                9                 0.500000  \n",
      "2                                                6                 0.500000  \n",
      "3                                                7                 0.500000  \n",
      "4                                                7                 0.500000  \n",
      "...                                            ...                      ...  \n",
      "495528                                           7                 0.794356  \n",
      "495529                                          11                 0.897178  \n",
      "495530                                          11                 0.897178  \n",
      "495531                                          10                 0.897178  \n",
      "495532                                          10                 0.906088  \n",
      "\n",
      "[495533 rows x 7 columns]\n"
     ]
    }
   ],
   "source": [
    "import pandas as pd\n",
    "\n",
    "def main():\n",
    "    df = pd.read_csv(\"../../Dataset/Decisions.csv\")\n",
    "    \n",
    "    #Elimino le colonne irrilevanti per l'analisi\n",
    "    df = df.iloc[:, [0, 1, 2, 3, 4, 5, 7]]\n",
    "\n",
    "    #Tolgo la parte errata dalle stringhe della seconda colonna\n",
    "    dg = df.iloc[:, 1]\n",
    "    lista1 = sub(dg)\n",
    "    \n",
    "    #Appendo le nuove colonne al DataFrame\n",
    "    lista1 = pd.DataFrame(lista1)\n",
    "    lista1.columns = [\"temp1\"]\n",
    "    df = df.join(lista1)\n",
    "    \n",
    "    #Rimuovo la vecchia colonna e rinomino quella nuova\n",
    "    df = df.drop(\"Session ID\", axis = 1)\n",
    "    df = df.rename(columns = { \"temp1\" : \"Session ID\"})\n",
    "    \n",
    "    #Riordino le colonne del DataFrame\n",
    "    df = df.iloc[:, [0, 6, 1, 2, 3, 4, 5]]\n",
    "    \n",
    "    print(df)\n",
    "    #Salvo il file come .csv\n",
    "    df.to_csv(\"../Decisions.csv\", index = False)\n",
    "\n",
    "\n",
    "#Metodo che taglia la parte errata da ogni stringa\n",
    "def sub(DataFrame):\n",
    "    lista = [i[0:36] for i in DataFrame]\n",
    "    return lista\n",
    "\n",
    "if __name__ == \"__main__\":\n",
    "    main()"
   ]
  }
 ],
 "metadata": {
  "kernelspec": {
   "display_name": "Python 3 (ipykernel)",
   "language": "python",
   "name": "python3"
  },
  "language_info": {
   "codemirror_mode": {
    "name": "ipython",
    "version": 3
   },
   "file_extension": ".py",
   "mimetype": "text/x-python",
   "name": "python",
   "nbconvert_exporter": "python",
   "pygments_lexer": "ipython3",
   "version": "3.9.7"
  }
 },
 "nbformat": 4,
 "nbformat_minor": 5
}
