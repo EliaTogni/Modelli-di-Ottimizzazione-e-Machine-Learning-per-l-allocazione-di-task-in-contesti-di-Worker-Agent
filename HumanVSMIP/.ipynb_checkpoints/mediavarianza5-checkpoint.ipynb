{
 "cells": [
  {
   "cell_type": "code",
   "execution_count": 55,
   "id": "b89adf59",
   "metadata": {},
   "outputs": [
    {
     "name": "stdout",
     "output_type": "stream",
     "text": [
      "0.694368312397748, 7.2343826005130565e-06\n",
      "\n",
      "6.592707224707354, 0.18146053443709467\n",
      "\n",
      "4.697630205779776, 0.10551738187483253\n",
      "\n",
      "6.7795226384885074, 0.16637859850483586\n",
      "\n",
      "5.833070240363358, 0.1199519137542398\n",
      "\n",
      "6.638382062211257, 0.25184210260176354\n",
      "\n",
      "6.109942125346549, 0.20492944690834297\n",
      "\n",
      "6.47128342693966, 0.3371059544088342\n",
      "\n",
      "5.6638182234372385, 0.2516074937511108\n",
      "\n",
      "6.342925772763107, 0.42879672235287614\n",
      "\n",
      "5.784668822887951, 0.3433955118979442\n",
      "\n",
      "6.24295350980011, 0.5230259000124561\n",
      "\n",
      "5.767286570471682, 0.4307792685644466\n",
      "\n",
      "6.161349606792791, 0.5801423733909948\n",
      "\n",
      "5.867605924487943, 0.5147307768528476\n",
      "\n",
      "6.106605456613523, 0.6090994964482814\n",
      "\n",
      "5.8212791101041095, 0.5417761827917569\n",
      "\n",
      "6.0829086196569335, 0.6793475529837354\n",
      "\n"
     ]
    }
   ],
   "source": [
    "import pandas as pd\n",
    "import numpy as np\n",
    "\n",
    "score1 = pd.read_csv(\"Totale Round/Level 5/totale1level5.csv\", header = None)\n",
    "score2 = pd.read_csv(\"Totale Round/Level 5/totale2level5.csv\", header = None)\n",
    "score3 = pd.read_csv(\"Totale Round/Level 5/totale3level5.csv\", header = None)\n",
    "score4 = pd.read_csv(\"Totale Round/Level 5/totale4level5.csv\", header = None)\n",
    "score5 = pd.read_csv(\"Totale Round/Level 5/totale5level5.csv\", header = None)\n",
    "score6 = pd.read_csv(\"Totale Round/Level 5/totale6level5.csv\", header = None)\n",
    "score7 = pd.read_csv(\"Totale Round/Level 5/totale7level5.csv\", header = None)\n",
    "score8 = pd.read_csv(\"Totale Round/Level 5/totale8level5.csv\", header = None)\n",
    "score9 = pd.read_csv(\"Totale Round/Level 5/totale9level5.csv\", header = None)\n",
    "\n",
    "print(f\"{np.mean(score1.loc[:, 1])}, {np.var(score1.loc[:, 1])}\\n\")\n",
    "print(f\"{np.mean(score1.loc[:, 2])}, {np.var(score1.loc[:, 2])}\\n\")\n",
    "print(f\"{np.mean(score2.loc[:, 1])}, {np.var(score2.loc[:, 1])}\\n\")\n",
    "print(f\"{np.mean(score2.loc[:, 2])}, {np.var(score2.loc[:, 2])}\\n\")\n",
    "print(f\"{np.mean(score3.loc[:, 1])}, {np.var(score3.loc[:, 1])}\\n\")\n",
    "print(f\"{np.mean(score3.loc[:, 2])}, {np.var(score3.loc[:, 2])}\\n\")\n",
    "print(f\"{np.mean(score4.loc[:, 1])}, {np.var(score4.loc[:, 1])}\\n\")\n",
    "print(f\"{np.mean(score4.loc[:, 2])}, {np.var(score4.loc[:, 2])}\\n\")\n",
    "print(f\"{np.mean(score5.loc[:, 1])}, {np.var(score5.loc[:, 1])}\\n\")\n",
    "print(f\"{np.mean(score5.loc[:, 2])}, {np.var(score5.loc[:, 2])}\\n\")\n",
    "print(f\"{np.mean(score6.loc[:, 1])}, {np.var(score6.loc[:, 1])}\\n\")\n",
    "print(f\"{np.mean(score6.loc[:, 2])}, {np.var(score6.loc[:, 2])}\\n\")\n",
    "print(f\"{np.mean(score7.loc[:, 1])}, {np.var(score7.loc[:, 1])}\\n\")\n",
    "print(f\"{np.mean(score7.loc[:, 2])}, {np.var(score7.loc[:, 2])}\\n\")\n",
    "print(f\"{np.mean(score8.loc[:, 1])}, {np.var(score8.loc[:, 1])}\\n\")\n",
    "print(f\"{np.mean(score8.loc[:, 2])}, {np.var(score8.loc[:, 2])}\\n\")\n",
    "print(f\"{np.mean(score9.loc[:, 1])}, {np.var(score9.loc[:, 1])}\\n\")\n",
    "print(f\"{np.mean(score9.loc[:, 2])}, {np.var(score9.loc[:, 2])}\\n\")\n",
    "score1"
   ]
  }
 ],
 "metadata": {
  "kernelspec": {
   "display_name": "Python 3 (ipykernel)",
   "language": "python",
   "name": "python3"
  },
  "language_info": {
   "codemirror_mode": {
    "name": "ipython",
    "version": 3
   },
   "file_extension": ".py",
   "mimetype": "text/x-python",
   "name": "python",
   "nbconvert_exporter": "python",
   "pygments_lexer": "ipython3",
   "version": "3.9.7"
  }
 },
 "nbformat": 4,
 "nbformat_minor": 5
}
