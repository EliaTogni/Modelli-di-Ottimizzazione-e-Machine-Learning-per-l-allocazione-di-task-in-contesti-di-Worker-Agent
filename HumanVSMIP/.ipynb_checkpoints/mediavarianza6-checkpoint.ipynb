{
 "cells": [
  {
   "cell_type": "code",
   "execution_count": 1,
   "id": "79f225df",
   "metadata": {},
   "outputs": [
    {
     "name": "stdout",
     "output_type": "stream",
     "text": [
      "1.279508260933343, 8.680130515832694e-06\n",
      "\n",
      "6.439122661668176, 0.2048126456592505\n",
      "\n",
      "5.527958541216235, 0.11739859158035815\n",
      "\n",
      "6.468489242927928, 0.20868143273867631\n",
      "\n",
      "5.805421316901029, 0.1475830707148983\n",
      "\n",
      "6.217869118246255, 0.24545707682203088\n",
      "\n",
      "5.902867021290855, 0.1981327102886121\n",
      "\n",
      "5.961106780820449, 0.30965033563338995\n",
      "\n",
      "5.266376613176909, 0.22493811648076015\n",
      "\n",
      "5.792692157394887, 0.3641108605638758\n",
      "\n",
      "5.289622455133266, 0.28551077744051456\n",
      "\n",
      "5.683358951535511, 0.42861273731155447\n",
      "\n",
      "5.322734277971535, 0.35365692391393555\n",
      "\n",
      "5.576041693330901, 0.4737673157825374\n",
      "\n",
      "5.326743026897005, 0.4084466633699247\n",
      "\n",
      "5.4903451861414485, 0.5307667967817354\n",
      "\n",
      "5.258977200292025, 0.4664477060084462\n",
      "\n",
      "5.412721785171864, 0.5381254724941068\n",
      "\n"
     ]
    }
   ],
   "source": [
    "import pandas as pd\n",
    "import numpy as np\n",
    "\n",
    "score1 = pd.read_csv(\"Totale Round/Level 6/totale1level6.csv\", header = None)\n",
    "score2 = pd.read_csv(\"Totale Round/Level 6/totale2level6.csv\", header = None)\n",
    "score3 = pd.read_csv(\"Totale Round/Level 6/totale3level6.csv\", header = None)\n",
    "score4 = pd.read_csv(\"Totale Round/Level 6/totale4level6.csv\", header = None)\n",
    "score5 = pd.read_csv(\"Totale Round/Level 6/totale5level6.csv\", header = None)\n",
    "score6 = pd.read_csv(\"Totale Round/Level 6/totale6level6.csv\", header = None)\n",
    "score7 = pd.read_csv(\"Totale Round/Level 6/totale7level6.csv\", header = None)\n",
    "score8 = pd.read_csv(\"Totale Round/Level 6/totale8level6.csv\", header = None)\n",
    "score9 = pd.read_csv(\"Totale Round/Level 6/totale9level6.csv\", header = None)\n",
    "\n",
    "print(f\"{np.mean(score1.loc[:, 1])}, {np.var(score1.loc[:, 1])}\\n\")\n",
    "print(f\"{np.mean(score1.loc[:, 2])}, {np.var(score1.loc[:, 2])}\\n\")\n",
    "print(f\"{np.mean(score2.loc[:, 1])}, {np.var(score2.loc[:, 1])}\\n\")\n",
    "print(f\"{np.mean(score2.loc[:, 2])}, {np.var(score2.loc[:, 2])}\\n\")\n",
    "print(f\"{np.mean(score3.loc[:, 1])}, {np.var(score3.loc[:, 1])}\\n\")\n",
    "print(f\"{np.mean(score3.loc[:, 2])}, {np.var(score3.loc[:, 2])}\\n\")\n",
    "print(f\"{np.mean(score4.loc[:, 1])}, {np.var(score4.loc[:, 1])}\\n\")\n",
    "print(f\"{np.mean(score4.loc[:, 2])}, {np.var(score4.loc[:, 2])}\\n\")\n",
    "print(f\"{np.mean(score5.loc[:, 1])}, {np.var(score5.loc[:, 1])}\\n\")\n",
    "print(f\"{np.mean(score5.loc[:, 2])}, {np.var(score5.loc[:, 2])}\\n\")\n",
    "print(f\"{np.mean(score6.loc[:, 1])}, {np.var(score6.loc[:, 1])}\\n\")\n",
    "print(f\"{np.mean(score6.loc[:, 2])}, {np.var(score6.loc[:, 2])}\\n\")\n",
    "print(f\"{np.mean(score7.loc[:, 1])}, {np.var(score7.loc[:, 1])}\\n\")\n",
    "print(f\"{np.mean(score7.loc[:, 2])}, {np.var(score7.loc[:, 2])}\\n\")\n",
    "print(f\"{np.mean(score8.loc[:, 1])}, {np.var(score8.loc[:, 1])}\\n\")\n",
    "print(f\"{np.mean(score8.loc[:, 2])}, {np.var(score8.loc[:, 2])}\\n\")\n",
    "print(f\"{np.mean(score9.loc[:, 1])}, {np.var(score9.loc[:, 1])}\\n\")\n",
    "print(f\"{np.mean(score9.loc[:, 2])}, {np.var(score9.loc[:, 2])}\\n\")"
   ]
  }
 ],
 "metadata": {
  "kernelspec": {
   "display_name": "Python 3 (ipykernel)",
   "language": "python",
   "name": "python3"
  },
  "language_info": {
   "codemirror_mode": {
    "name": "ipython",
    "version": 3
   },
   "file_extension": ".py",
   "mimetype": "text/x-python",
   "name": "python",
   "nbconvert_exporter": "python",
   "pygments_lexer": "ipython3",
   "version": "3.9.7"
  }
 },
 "nbformat": 4,
 "nbformat_minor": 5
}
