{
 "cells": [
  {
   "cell_type": "code",
   "execution_count": 20,
   "id": "9ce17285",
   "metadata": {},
   "outputs": [
    {
     "name": "stdout",
     "output_type": "stream",
     "text": [
      "Sono presenti 37 users con più di 30 game session giocate: ['000a62d8-5e6d-4532-ad99-af8a92a7e7f3', '00212664-6c71-4e24-b61d-c7776f7a7d99', '085da21f-4011-4779-ac98-4ed51154c0d5', '12b5a3b6-ccd8-4259-9943-ea4d34a89a1a', '18758360-8f86-480e-ad68-6644f1d062d5', '28c1a568-4a34-4c0a-90c9-da8150390e88', '2fe37a4e-2f03-4573-844f-ee523105dc00', '3452d36a-8ed4-4253-b9db-d8fbeb74638e', '453c69f9-3e08-46f4-9c34-b036575a342e', '46da2a87-6999-4690-a45f-89f69c9d9a15', '4a7b26aa-bed3-4660-8014-fa2d51e21030', '4a8258fd-a3fc-4816-afc7-9f62a17a0664', '4c1bc615-6ec8-49b0-b4a6-992dc8348809', '574e89d2-8320-4f63-a8e4-4d25fb9b3e8d', '6afc891c-1442-4d1d-9660-00e28fa16489', '6e9c88f4-0b93-4c2f-a681-a72a30e41b64', '704e4795-fc54-4e87-a764-aa49ba52011d', '70506f5d-00ac-4ac5-9e9c-6fd6406016af', '74ddab53-3849-4848-a0df-efb50e0eba8f', '85c24634-825e-4f55-99e7-fe3c1c00ebbc', '863b4b11-6da2-44b9-8e21-4f5954ed5b04', '8db00f0c-87e8-4515-b73e-2e67244c7198', '92927f86-f921-4e6d-996e-9f337b6b2877', '9caf068d-5e86-4818-8d83-379ea55d4e6f', '9da6520c-97c9-4c23-9d6a-ea5a603b5163', 'adc3fcd1-e4bf-42a5-b9c6-5a9a0b307cef', 'bdf52837-f61c-402a-b1c5-5d5b943b51b1', 'c1f00487-661e-4dd1-9bdb-7f22e3fb0025', 'c5576f06-432f-4aaf-bc88-a18dfc2b213f', 'c785d937-d9a7-42a7-8596-4f41c550d747', 'cfab3001-b954-4a01-a1c6-b8173a2f0a36', 'e4a00228-4aad-4830-b9fb-6fc200792ec1', 'ea6e6aa6-c30a-4e8b-92ea-97fa67a27df2', 'f2dabbf8-5e14-4107-93b1-5384f1538a0d', 'f5901766-c557-4207-87cb-974e588b2351', 'f836c650-861b-4348-9c0a-554a13aaf310', 'f8692315-0df8-4d7c-b3f1-7b1970ab72b3']\n"
     ]
    }
   ],
   "source": [
    "import pandas as pd\n",
    "import numpy as np\n",
    "\n",
    "game_session = pd.read_csv(\"../Dataset 2.0/Game Sessions.csv\")\n",
    "uniquePlayers = np.unique(game_session[\"User ID\"])\n",
    "\n",
    "users = []\n",
    "for i in uniquePlayers:\n",
    "    tmp = game_session[game_session[\"User ID\"] == i]\n",
    "    if len(tmp) >= 30:\n",
    "        users.append(i)\n",
    "        \n",
    "print(f\"Sono presenti {len(users)} users con più di 30 game session giocate: {users}\")"
   ]
  },
  {
   "cell_type": "code",
   "execution_count": 44,
   "id": "15bad025",
   "metadata": {},
   "outputs": [
    {
     "name": "stdout",
     "output_type": "stream",
     "text": [
      "['5af75049-6237-43ce-8d3f-33b9563b8e8d']\n",
      "[]\n",
      "['c80595f1-71e0-4b0a-8a62-e2303460d67b', 'fb9fa66a-bb51-4d7e-a902-f5554bf98fba']\n",
      "['fb57064d-bc98-4221-b0fa-8fd036c9ba30', '04405414-779d-437e-bc69-acf40f360ebc', '983c1257-3b9d-42a3-a7b2-f61662666487', '04405414-779d-437e-bc69-acf40f360ebc']\n",
      "['ab7039ee-eea9-4c7c-8b93-ede6284d9cc3', 'de11e4f3-bd89-4fc2-8e46-dcaeb09e172a']\n",
      "['696c0667-8668-447d-867f-ca5a478b42d9', 'b1cc2d30-d642-46b6-b5e7-314a65965a27']\n",
      "['91c9f6dc-c341-4820-a0ca-9dd11c8e5924', '95e325b7-0505-4c1a-9de4-5d7aac6007c1']\n",
      "['068743d5-598c-41a3-9dcf-77e1814d6580', '068743d5-598c-41a3-9dcf-77e1814d6580']\n",
      "['d491e62d-beab-4b98-9967-57db5d64ad1b']\n",
      "['53513833-6918-4ab9-bd4f-f807b7ac8060']\n",
      "['f0dd6513-a5cd-432d-8792-eb32bb328d6d', '0bf5d0e8-02e8-49ee-9b89-bb0f8db54411', '3cf27348-3c3b-4756-b995-d4cb6f197a48', '7051f5b7-ee8b-4ce3-b5b1-13ef28576581', '0bf5d0e8-02e8-49ee-9b89-bb0f8db54411']\n",
      "['1997d08b-dc63-4ad1-9fb4-c8dc91c25a97', '5872f349-1e97-4e48-a82c-13dbf3248765']\n",
      "['ac4ea9a7-e0a6-4a07-a523-9e054a86cf80', '67442125-0e89-4a0a-a10f-dd6a828d7989', '2cac54d8-4243-4614-b331-2e4600ece126', '795c54c3-67b4-4186-847c-b85b737435ea']\n",
      "['9f215c07-5037-46e0-9137-c0745ad08f72', 'd9151f3b-1e2a-4885-b9ea-9d5cf2b745da', 'd4bb8c6c-18e6-46a7-9ee9-bc8c50119e55']\n",
      "['b48654a8-d821-4508-8ce6-a52b31f6c71e', '4687399c-0010-433b-a437-63a061a4f034', '1b6a2d87-f9ed-4801-8e51-d9a81dcba0c5', '322c0dcd-1d60-40ca-b3d4-ebb47d101368']\n",
      "['58bf53a6-a9f5-41bd-b897-cb34bfc6de84', '7d2bec9f-c108-4df1-a4a3-63e7125ba649']\n",
      "['9cab399f-86e8-4397-ad34-6a4e942da39a']\n",
      "['ab047369-1b18-4ed9-9ef6-bfbc6b074281']\n",
      "['051262ae-0fa8-4cca-bf15-de13f642a650', 'd875c370-f30b-473b-9638-e3af466866c4', '6b89de4e-80eb-4fe8-90c2-3a5b9d75b01d', '516ea01a-bf11-4c4e-adc5-49c77821bd02', 'cc25aa67-67bf-42d3-a332-6d9d5bd0f520', '051262ae-0fa8-4cca-bf15-de13f642a650']\n",
      "['2004a003-2220-4048-b729-9ad3992ae317', 'a49076b3-3e2b-4d60-8c3d-880a44db0e6a', '43b6718e-510e-4c29-9a5a-650070c8be5f', 'f10f5f3e-cc5f-4230-8395-13977fe4f173', 'df1a5bdb-034c-414b-a469-46c8d85b4c24']\n",
      "['1d9cd410-843d-4b01-8720-d7e4910d91c6', 'ba2149fc-012c-4e5a-86cb-bfbfc9ed8d71', 'f2d1a8a4-50cc-4755-8b39-8600f86bbdb0', 'ca0213c0-9989-49e7-af89-1a743c00eb20', '370a0db6-8bd8-42e1-927c-04abe7d583d1']\n",
      "['b6e18bbe-1c35-461d-98e8-5a52f3099574', 'aef97aca-4a32-416a-a067-40d4de28e898']\n",
      "['c673ca6d-116c-41e0-b87b-0b6be5edb373', 'dc258a3e-b6c6-4be3-ab24-c37eb9242bcd']\n",
      "['e19a8986-c250-43d3-ad0d-f38ee549ab1e']\n",
      "['a0e4c34e-fa9a-4c23-909e-756a650c349a', '13d3f7d2-f76b-4139-bbb1-f1544bf24064', '60962238-2bc2-4f52-9eea-f745fd7c2126', '899633cd-4fd3-463c-98b7-10b1423daf45', '2eb6e7d5-9b37-432a-9117-70208d26d367']\n",
      "['77f7a3d2-6e30-4fb8-9179-74ae580ee99a']\n",
      "['4e92f0a6-6cbd-40e7-92c6-c90bd6c1e66d']\n",
      "['209226d8-33ee-48c5-a804-cfdb60a3637b', '02647ffb-6535-4f65-adc5-bc7e0e5bbc66', 'c774e933-8fd9-48d2-ab6b-fdf939760e98', 'ac4ee2b3-3f07-43cb-b904-ccbae4f423b6', '02647ffb-6535-4f65-adc5-bc7e0e5bbc66']\n",
      "['ccfb8830-08fb-4462-9e7a-a16034f65024', 'c0d30e25-4a59-4e3c-b3d9-2c165744793f', '392d84c3-2cf6-4585-8826-bb4947606f3a', '25a29012-5588-4ac7-8f0d-2c85eb0b82f5', '443087ea-d194-4a51-b260-cee6b83d4eca']\n",
      "['af6bcaf6-31a0-4f72-af4d-bcdf26895f88', 'c3302808-38fa-4f49-a4e0-b6b6bb2a9ea8', 'b79e013c-74f6-4c1b-9f6a-3e9ca6948912', 'bfce2734-f71a-4ce9-8754-663ce6b25b64']\n",
      "['dcbb9bcd-53a2-4c12-ab7e-7f6e6125da64']\n",
      "['7ad6baba-4a99-473b-8942-e8915aabc780', 'acf421df-280d-474e-ace4-8572bf10c2b4', 'be64608f-6e13-4e2d-98a9-1584147bf9a5', 'b94ee242-172b-4a47-99b6-72af749e68c5']\n",
      "['33e64dfe-3cf8-4915-8072-d7b80dc686e6', 'c2fbc7a2-d567-4e77-b2c8-5874a7ae9ef2']\n",
      "['bdafdaa6-a1a2-48bd-a08f-6b2337e1064b']\n",
      "['220dd9e7-9cbf-46a9-beb2-b9a8a7fb26a2', 'dec8ca47-c9f9-4943-a477-b69d95a3a3f0', 'efbfa117-850d-4d95-b764-4fd553f3cdf2', '869622a4-ed0a-472b-b8a9-c49324397088', 'e57a46a3-8e45-4fa8-a5b6-30ddf0def6ac']\n",
      "['d34c301f-2abc-4277-a1ef-ef38935f68b2', '0e0f74c2-66f1-4907-b7fa-0d4966c56024', '0e0f74c2-66f1-4907-b7fa-0d4966c56024']\n",
      "['05e60fc4-b904-458d-afff-6159361712fd', '05e60fc4-b904-458d-afff-6159361712fd']\n"
     ]
    },
    {
     "data": {
      "text/html": [
       "<div>\n",
       "<style scoped>\n",
       "    .dataframe tbody tr th:only-of-type {\n",
       "        vertical-align: middle;\n",
       "    }\n",
       "\n",
       "    .dataframe tbody tr th {\n",
       "        vertical-align: top;\n",
       "    }\n",
       "\n",
       "    .dataframe thead th {\n",
       "        text-align: right;\n",
       "    }\n",
       "</style>\n",
       "<table border=\"1\" class=\"dataframe\">\n",
       "  <thead>\n",
       "    <tr style=\"text-align: right;\">\n",
       "      <th></th>\n",
       "      <th>ID</th>\n",
       "      <th>User ID</th>\n",
       "      <th>Game Level</th>\n",
       "      <th>Player Score</th>\n",
       "      <th>Player Score Loss \\n(Low Quality)</th>\n",
       "      <th>Player Score Loss (Tardiness)</th>\n",
       "      <th>AI Score</th>\n",
       "      <th>AI Score Loss \\n(Low Quality)</th>\n",
       "      <th>AI Score Loss \\n(Tardiness)</th>\n",
       "      <th>User Strategy Index</th>\n",
       "      <th>User Strategy Description</th>\n",
       "    </tr>\n",
       "  </thead>\n",
       "  <tbody>\n",
       "    <tr>\n",
       "      <th>4095</th>\n",
       "      <td>05e60fc4-b904-458d-afff-6159361712fd</td>\n",
       "      <td>f8692315-0df8-4d7c-b3f1-7b1970ab72b3</td>\n",
       "      <td>5</td>\n",
       "      <td>77.53%</td>\n",
       "      <td>11.46%</td>\n",
       "      <td>11.12%</td>\n",
       "      <td>72.13%</td>\n",
       "      <td>6.85%</td>\n",
       "      <td>20.22%</td>\n",
       "      <td>100010</td>\n",
       "      <td>NaN</td>\n",
       "    </tr>\n",
       "    <tr>\n",
       "      <th>9352</th>\n",
       "      <td>05e60fc4-b904-458d-afff-6159361712fd</td>\n",
       "      <td>f8692315-0df8-4d7c-b3f1-7b1970ab72b3</td>\n",
       "      <td>5</td>\n",
       "      <td>77.53%</td>\n",
       "      <td>11.46%</td>\n",
       "      <td>11.12%</td>\n",
       "      <td>72.13%</td>\n",
       "      <td>6.85%</td>\n",
       "      <td>20.22%</td>\n",
       "      <td>101000</td>\n",
       "      <td>NaN</td>\n",
       "    </tr>\n",
       "  </tbody>\n",
       "</table>\n",
       "</div>"
      ],
      "text/plain": [
       "                                        ID  \\\n",
       "4095  05e60fc4-b904-458d-afff-6159361712fd   \n",
       "9352  05e60fc4-b904-458d-afff-6159361712fd   \n",
       "\n",
       "                                   User ID  Game Level Player Score  \\\n",
       "4095  f8692315-0df8-4d7c-b3f1-7b1970ab72b3           5       77.53%   \n",
       "9352  f8692315-0df8-4d7c-b3f1-7b1970ab72b3           5       77.53%   \n",
       "\n",
       "     Player Score Loss \\n(Low Quality) Player Score Loss (Tardiness) AI Score  \\\n",
       "4095                            11.46%                        11.12%   72.13%   \n",
       "9352                            11.46%                        11.12%   72.13%   \n",
       "\n",
       "     AI Score Loss \\n(Low Quality) AI Score Loss \\n(Tardiness)  \\\n",
       "4095                         6.85%                      20.22%   \n",
       "9352                         6.85%                      20.22%   \n",
       "\n",
       "      User Strategy Index User Strategy Description  \n",
       "4095               100010                       NaN  \n",
       "9352               101000                       NaN  "
      ]
     },
     "execution_count": 44,
     "metadata": {},
     "output_type": "execute_result"
    }
   ],
   "source": [
    "for i in users:\n",
    "    tmp = game_session[game_session[\"User ID\"] == i]\n",
    "    tmp = tmp[tmp[\"Game Level\"] == 5]"
   ]
  }
 ],
 "metadata": {
  "kernelspec": {
   "display_name": "Python 3 (ipykernel)",
   "language": "python",
   "name": "python3"
  },
  "language_info": {
   "codemirror_mode": {
    "name": "ipython",
    "version": 3
   },
   "file_extension": ".py",
   "mimetype": "text/x-python",
   "name": "python",
   "nbconvert_exporter": "python",
   "pygments_lexer": "ipython3",
   "version": "3.9.7"
  }
 },
 "nbformat": 4,
 "nbformat_minor": 5
}
