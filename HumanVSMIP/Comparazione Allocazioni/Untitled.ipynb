{
 "cells": [
  {
   "cell_type": "markdown",
   "id": "d8fe8c4d",
   "metadata": {},
   "source": [
    "Le sessioni di gioco prese in considerazione sono:\n",
    "\n",
    "### Load Balance Based Allocation ###\n",
    "\n",
    "_bfce2734-f71a-4ce9-8754-663ce6b25b64_ e _d388aeed-67b9-45a3-bcb1-b403e9dd7820_ \n",
    "\n",
    "\n",
    "#### Primo caso ####\n",
    "\n",
    "La strategia applicata, in questo caso, corrisponde a distribuire equamente le task tra i WA. Quindi, ognuno dei 10 WA avrà 3 task da svolgere (il WA 1 proverà a svolgere le task \"1, 2 e 3\", il WA 2 proverà a svolgere le task \"4, 5 e 6\", ecc.).\\newline\n",
    "Lo score ottenuto in questa maniera è di 40/89.\\newline\n",
    "Il modello, invece, assegna le task \\newline\n",
    "Lo score è di .\\newline\n",
    "Proviamo ora a calcolare lo score con i coefficienti al round 9. \\newline\n",
    "Il modello assegna le task . \\newline\n",
    "In questo caso, lo score è di .\n",
    "\n",
    "\n",
    "#### Secondo caso analizzato ####\n",
    "\n",
    "La strategia, anche in questo caso, corrisponde a distribuire equamente le task tra i WA.\\newline\n",
    "Lo score rimane di 40/89.\\newline\n",
    "Il modello invece assegna le task .\\newline\n",
    "Lo score in questo caso è di .\\newline\n",
    "Provo a calcolare lo score con i coefficienti al round 9 ed ottengo. Quindi, uno score di .\n",
    "\n",
    "\n",
    "### Random Based Allocation###\n",
    "\n",
    "_a5690cea-12d8-43e2-9051-8384707f5419_ e _0bdcbc28-40cc-4b45-9c11-d34fd5df4a94_\n",
    "\n",
    "\n",
    "#### Primo caso analizzato ####\n",
    "\n",
    "\n",
    "#### Secondo caso analizzato ####\n",
    "\n",
    "\n",
    "### Reputation Based Allocation ###\n",
    "\n",
    "_029f1214-7513-407e-b219-379c3587483f_ e _572487c5-e5f7-49e7-bb09-193a49e743ab_\n",
    "\n",
    "\n",
    "#### Primo caso analizzato ####\n",
    "\n",
    "\n",
    "#### Secondo caso analizzato ####\n",
    "\n",
    "\n",
    "### Uniform Task Allocation ###\n",
    "\n",
    "Sostanziamente, osservando le allocazioni fatte dai giocatori, questa strategia spesso e volentieri si sovrappone al classico _Load Balance_ quindi non effettuerò un'ulteriore analisi di score in quanto sarebbe ripetitiva."
   ]
  },
  {
   "cell_type": "code",
   "execution_count": null,
   "id": "ae578c23",
   "metadata": {},
   "outputs": [],
   "source": []
  }
 ],
 "metadata": {
  "kernelspec": {
   "display_name": "Python 3 (ipykernel)",
   "language": "python",
   "name": "python3"
  },
  "language_info": {
   "codemirror_mode": {
    "name": "ipython",
    "version": 3
   },
   "file_extension": ".py",
   "mimetype": "text/x-python",
   "name": "python",
   "nbconvert_exporter": "python",
   "pygments_lexer": "ipython3",
   "version": "3.9.7"
  }
 },
 "nbformat": 4,
 "nbformat_minor": 5
}
