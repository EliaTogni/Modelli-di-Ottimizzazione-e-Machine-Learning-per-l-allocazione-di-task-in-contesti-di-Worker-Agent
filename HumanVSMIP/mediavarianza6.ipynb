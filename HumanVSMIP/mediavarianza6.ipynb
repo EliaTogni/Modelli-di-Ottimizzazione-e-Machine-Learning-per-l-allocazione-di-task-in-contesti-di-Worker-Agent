{
 "cells": [
  {
   "cell_type": "code",
   "execution_count": 1,
   "id": "0568a90b",
   "metadata": {},
   "outputs": [
    {
     "name": "stdout",
     "output_type": "stream",
     "text": [
      "1.5134048991598943, 1.7749370367472766e-30\n",
      "\n",
      "6.439122661668176, 0.2048126456592505\n",
      "\n",
      "5.47113271444157, 0.1173130285264925\n",
      "\n",
      "6.468489242927928, 0.20868143273867631\n",
      "\n",
      "5.763606705670508, 0.14770007890794362\n",
      "\n",
      "6.217869118246255, 0.24545707682203088\n",
      "\n",
      "5.780360132988787, 0.19810094798948788\n",
      "\n",
      "5.961106780820449, 0.30965033563338995\n",
      "\n",
      "5.221030211533179, 0.22332456259312117\n",
      "\n",
      "5.792692157394887, 0.3641108605638758\n",
      "\n",
      "5.314843320061013, 0.28405293506890006\n",
      "\n",
      "5.683358951535511, 0.42861273731155447\n",
      "\n",
      "5.30834185020001, 0.35202942938716575\n",
      "\n",
      "5.576041693330901, 0.4737673157825374\n",
      "\n",
      "5.284666002776444, 0.4060404487322474\n",
      "\n",
      "5.4903451861414485, 0.5307667967817354\n",
      "\n",
      "5.262172054120823, 0.4675465703605032\n",
      "\n",
      "5.412721785171864, 0.5381254724941068\n",
      "\n"
     ]
    }
   ],
   "source": [
    "import pandas as pd\n",
    "import numpy as np\n",
    "\n",
    "score1 = pd.read_csv(\"Totale Round/Level 6/totale1level6.csv\", header = None)\n",
    "score2 = pd.read_csv(\"Totale Round/Level 6/totale2level6.csv\", header = None)\n",
    "score3 = pd.read_csv(\"Totale Round/Level 6/totale3level6.csv\", header = None)\n",
    "score4 = pd.read_csv(\"Totale Round/Level 6/totale4level6.csv\", header = None)\n",
    "score5 = pd.read_csv(\"Totale Round/Level 6/totale5level6.csv\", header = None)\n",
    "score6 = pd.read_csv(\"Totale Round/Level 6/totale6level6.csv\", header = None)\n",
    "score7 = pd.read_csv(\"Totale Round/Level 6/totale7level6.csv\", header = None)\n",
    "score8 = pd.read_csv(\"Totale Round/Level 6/totale8level6.csv\", header = None)\n",
    "score9 = pd.read_csv(\"Totale Round/Level 6/totale9level6.csv\", header = None)\n",
    "\n",
    "print(f\"{np.mean(score1.loc[:, 1])}, {np.var(score1.loc[:, 1])}\\n\")\n",
    "print(f\"{np.mean(score1.loc[:, 2])}, {np.var(score1.loc[:, 2])}\\n\")\n",
    "print(f\"{np.mean(score2.loc[:, 1])}, {np.var(score2.loc[:, 1])}\\n\")\n",
    "print(f\"{np.mean(score2.loc[:, 2])}, {np.var(score2.loc[:, 2])}\\n\")\n",
    "print(f\"{np.mean(score3.loc[:, 1])}, {np.var(score3.loc[:, 1])}\\n\")\n",
    "print(f\"{np.mean(score3.loc[:, 2])}, {np.var(score3.loc[:, 2])}\\n\")\n",
    "print(f\"{np.mean(score4.loc[:, 1])}, {np.var(score4.loc[:, 1])}\\n\")\n",
    "print(f\"{np.mean(score4.loc[:, 2])}, {np.var(score4.loc[:, 2])}\\n\")\n",
    "print(f\"{np.mean(score5.loc[:, 1])}, {np.var(score5.loc[:, 1])}\\n\")\n",
    "print(f\"{np.mean(score5.loc[:, 2])}, {np.var(score5.loc[:, 2])}\\n\")\n",
    "print(f\"{np.mean(score6.loc[:, 1])}, {np.var(score6.loc[:, 1])}\\n\")\n",
    "print(f\"{np.mean(score6.loc[:, 2])}, {np.var(score6.loc[:, 2])}\\n\")\n",
    "print(f\"{np.mean(score7.loc[:, 1])}, {np.var(score7.loc[:, 1])}\\n\")\n",
    "print(f\"{np.mean(score7.loc[:, 2])}, {np.var(score7.loc[:, 2])}\\n\")\n",
    "print(f\"{np.mean(score8.loc[:, 1])}, {np.var(score8.loc[:, 1])}\\n\")\n",
    "print(f\"{np.mean(score8.loc[:, 2])}, {np.var(score8.loc[:, 2])}\\n\")\n",
    "print(f\"{np.mean(score9.loc[:, 1])}, {np.var(score9.loc[:, 1])}\\n\")\n",
    "print(f\"{np.mean(score9.loc[:, 2])}, {np.var(score9.loc[:, 2])}\\n\")"
   ]
  }
 ],
 "metadata": {
  "kernelspec": {
   "display_name": "Python 3 (ipykernel)",
   "language": "python",
   "name": "python3"
  },
  "language_info": {
   "codemirror_mode": {
    "name": "ipython",
    "version": 3
   },
   "file_extension": ".py",
   "mimetype": "text/x-python",
   "name": "python",
   "nbconvert_exporter": "python",
   "pygments_lexer": "ipython3",
   "version": "3.9.7"
  }
 },
 "nbformat": 4,
 "nbformat_minor": 5
}
